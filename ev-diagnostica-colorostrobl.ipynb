{
 "cells": [
  {
   "cell_type": "code",
   "execution_count": 3,
   "id": "bc3ec895",
   "metadata": {},
   "outputs": [],
   "source": [
    "import pandas as pd\n",
    "import re"
   ]
  },
  {
   "cell_type": "code",
   "execution_count": 20,
   "id": "1585b46f",
   "metadata": {},
   "outputs": [],
   "source": [
    "def top10_retweeted(df):\n",
    "    df_ordenado = df.sort_values(by=['retweetCount'], ascending=False)\n",
    "    top10 = df_ordenado[:10][['url', 'content', 'user']]\n",
    "    return top10\n",
    "\n",
    "def top10_cantidad(df):\n",
    "    count_dict = {}\n",
    "    for row in df[['user']].iterrows():\n",
    "        name = row[1][0]['username']\n",
    "        if name in count_dict.keys():\n",
    "            count_dict[name] += 1\n",
    "        else:\n",
    "            count_dict[name] = 1\n",
    "    return sorted(count_dict.items(), key=lambda item: item[1], reverse=True)[:10]\n",
    "\n",
    "def top10_dias(df):\n",
    "    count_dict = {}\n",
    "    for row in df[['date']].iterrows():\n",
    "        date=str(row[1][0].date())\n",
    "        if date in count_dict.keys():\n",
    "            count_dict[date] += 1\n",
    "        else:\n",
    "            count_dict[date] = 1\n",
    "    return sorted(count_dict.items(), key=lambda item: item[1], reverse=True)[:10]\n",
    "\n",
    "def top10_hashtags(df):\n",
    "    count_dict = {}\n",
    "    for row in df[['content']].iterrows():\n",
    "        data = row[1][0]\n",
    "        if '#' in data:\n",
    "            for hashtag in re.findall(r\"#(\\w+)\", data):\n",
    "                if hashtag in count_dict.keys():\n",
    "                    count_dict[hashtag] += 1\n",
    "                else:\n",
    "                    count_dict[hashtag] = 1\n",
    "    return sorted(count_dict.items(), key=lambda item: item[1], reverse=True)[:10]\n",
    "\n",
    "def main():\n",
    "    print(\"¿Qué función deseas ejecutar?\\n\")\n",
    "    print(\"1 -> Top 10 tweets más retuiteados\")\n",
    "    print(\"2 -> Top 10 usuarios con más tweets\")\n",
    "    print(\"3 -> Top 10 días con más tweets\")\n",
    "    print(\"4 -> Top 10 Hahtags más usados\")\n",
    "    option = input(\"\\nInput: \")\n",
    "    \n",
    "    if option in ['1', '2', '3', '4']:\n",
    "        df = pd.read_json('farmers-protest-tweets-2021-03-5.json', lines=True)\n",
    "    \n",
    "    if option == '1':\n",
    "        retweets = top10_retweeted(df)\n",
    "        print(\"\\nTop 10 tweets más retuiteados\\n\")\n",
    "        for row in retweets.iterrows():\n",
    "            print(row, '\\n')\n",
    "    \n",
    "    elif option == '2':\n",
    "        cantidad = top10_cantidad(df)\n",
    "        print('\\nTop 10 Usuarios con más tweets\\n')\n",
    "        for i in range(len(cantidad)):\n",
    "            print(f\"En el puesto {i+1} tenemos a {cantidad[i][0]} con {cantidad[i][1]} tweets.\")\n",
    "    \n",
    "    elif option == '3':\n",
    "        dias = top10_dias(df)\n",
    "        print('\\nTop 10 dias con más tweets\\n')\n",
    "        for i in range(len(dias)):\n",
    "            print(f\"En el puesto {i+1} tenemos la fecha {dias[i][0]} con {dias[i][1]} tweets.\")\n",
    "    \n",
    "    elif option == '4':\n",
    "        hashtags = top10_hashtags(df)\n",
    "        print('\\nTop 10 hashtags más utilizados\\n')\n",
    "        for i in range(len(hashtags)):\n",
    "            print(f\"En el puesto {i+1} tenemos #{hashtags[i][0]} utilizado {hashtags[i][1]} veces.\")\n",
    "    \n",
    "    else:\n",
    "        print('Input incorrecto!')\n",
    "    "
   ]
  },
  {
   "cell_type": "code",
   "execution_count": 21,
   "id": "89caa75e",
   "metadata": {},
   "outputs": [
    {
     "name": "stdout",
     "output_type": "stream",
     "text": [
      "¿Qué función deseas ejecutar?\n",
      "\n",
      "1 -> Top 10 tweets más retuiteados\n",
      "2 -> Top 10 usuarios con más tweets\n",
      "3 -> Top 10 días con más tweets\n",
      "4 -> Top 10 Hahtags más usados\n",
      "\n",
      "Input: 4\n",
      "\n",
      "Top 10 hashtags más utilizados\n",
      "\n",
      "En el puesto 1 tenemos #FarmersProtest utilizado 406613 veces.\n",
      "En el puesto 2 tenemos #IStandWithFarmers utilizado 15783 veces.\n",
      "En el puesto 3 tenemos #farmersprotest utilizado 15458 veces.\n",
      "En el puesto 4 tenemos #IndianFarmersHumanRights utilizado 12019 veces.\n",
      "En el puesto 5 tenemos #FarmersAreIndia utilizado 11043 veces.\n",
      "En el puesto 6 tenemos #StandWithFarmers utilizado 10645 veces.\n",
      "En el puesto 7 tenemos #Rihanna utilizado 9117 veces.\n",
      "En el puesto 8 tenemos #FarmersProtests utilizado 8750 veces.\n",
      "En el puesto 9 tenemos #Farmers utilizado 6561 veces.\n",
      "En el puesto 10 tenemos #shameonbollywood utilizado 6270 veces.\n"
     ]
    }
   ],
   "source": [
    "main()"
   ]
  },
  {
   "cell_type": "code",
   "execution_count": null,
   "id": "cebc67c7",
   "metadata": {},
   "outputs": [],
   "source": []
  }
 ],
 "metadata": {
  "kernelspec": {
   "display_name": "Python 3 (ipykernel)",
   "language": "python",
   "name": "python3"
  },
  "language_info": {
   "codemirror_mode": {
    "name": "ipython",
    "version": 3
   },
   "file_extension": ".py",
   "mimetype": "text/x-python",
   "name": "python",
   "nbconvert_exporter": "python",
   "pygments_lexer": "ipython3",
   "version": "3.9.7"
  }
 },
 "nbformat": 4,
 "nbformat_minor": 5
}
